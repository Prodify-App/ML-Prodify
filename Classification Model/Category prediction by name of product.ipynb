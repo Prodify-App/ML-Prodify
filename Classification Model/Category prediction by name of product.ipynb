{
  "cells": [
    {
      "cell_type": "code",
      "execution_count": null,
      "metadata": {
        "colab": {
          "base_uri": "https://localhost:8080/"
        },
        "id": "TO2OqDzSZdae",
        "outputId": "1161b6eb-33bf-4337-8374-3db3434863ad"
      },
      "outputs": [
        {
          "output_type": "stream",
          "name": "stdout",
          "text": [
            "/usr/local/lib/python3.10/dist-packages/gdown/cli.py:121: FutureWarning: Option `--id` was deprecated in version 4.3.1 and will be removed in 5.0. You don't need to pass it anymore to use a file ID.\n",
            "  warnings.warn(\n",
            "Downloading...\n",
            "From: https://drive.google.com/uc?id=15jBfU0O2wRcmgxZzL31eHom2rObLg7Hn\n",
            "To: /content/data_products_id.csv\n",
            "100% 167M/167M [00:00<00:00, 255MB/s]\n"
          ]
        }
      ],
      "source": [
        "# Download dataset ke google colab\n",
        "!gdown --id 15jBfU0O2wRcmgxZzL31eHom2rObLg7Hn"
      ]
    },
    {
      "cell_type": "code",
      "execution_count": null,
      "metadata": {
        "id": "_FT9EDESdOQf"
      },
      "outputs": [],
      "source": [
        "# import packages\n",
        "import numpy as np\n",
        "import pandas as pd\n",
        "import matplotlib.pyplot as plt\n",
        "\n",
        "import tensorflow as tf\n",
        "import tensorflow_hub as hub"
      ]
    },
    {
      "cell_type": "code",
      "execution_count": null,
      "metadata": {
        "colab": {
          "base_uri": "https://localhost:8080/",
          "height": 206
        },
        "id": "IADqigHrdbPv",
        "outputId": "9ae6b13a-ceea-4bc9-ba3b-c278421df936"
      },
      "outputs": [
        {
          "output_type": "execute_result",
          "data": {
            "text/plain": [
              "     product_id                             image  \\\n",
              "0  1.252352e+10  e6205d4fcb8a485235778ad210ac4d90   \n",
              "1  1.252352e+10  id-11134207-7qul3-lf6yozwuhi04b2   \n",
              "2  1.794108e+10  8563c9fc31b880ed105f91b8d43e6d88   \n",
              "3  1.794108e+10  27ad37dbae3d9e3776483634972404f0   \n",
              "4  1.794108e+10  3a37929008c26d5ebfeea1961e564213   \n",
              "\n",
              "                                                name             shop_name  \\\n",
              "0  PS3 Super Slim 1TB Full Game + 2 Stik getar + ...     spirit elektronik   \n",
              "1  PS3 Super Slim 1TB Full Game + 2 Stik getar + ...     spirit elektronik   \n",
              "2  GAMEBOY PVP DUAL ANALOG FULLSET BISA MAIN DI T...  Gaming Console Store   \n",
              "3  GAMEBOY PVP DUAL ANALOG FULLSET BISA MAIN DI T...  Gaming Console Store   \n",
              "4  GAMEBOY PVP DUAL ANALOG FULLSET BISA MAIN DI T...  Gaming Console Store   \n",
              "\n",
              "        shopid main_category sub_category  \n",
              "0  379815570.0    Elektronik  Konsol Game  \n",
              "1  379815570.0    Elektronik  Konsol Game  \n",
              "2  268909000.0    Elektronik  Konsol Game  \n",
              "3  268909000.0    Elektronik  Konsol Game  \n",
              "4  268909000.0    Elektronik  Konsol Game  "
            ],
            "text/html": [
              "\n",
              "  <div id=\"df-39e7e864-d120-47d3-a6b2-051c978a8b12\">\n",
              "    <div class=\"colab-df-container\">\n",
              "      <div>\n",
              "<style scoped>\n",
              "    .dataframe tbody tr th:only-of-type {\n",
              "        vertical-align: middle;\n",
              "    }\n",
              "\n",
              "    .dataframe tbody tr th {\n",
              "        vertical-align: top;\n",
              "    }\n",
              "\n",
              "    .dataframe thead th {\n",
              "        text-align: right;\n",
              "    }\n",
              "</style>\n",
              "<table border=\"1\" class=\"dataframe\">\n",
              "  <thead>\n",
              "    <tr style=\"text-align: right;\">\n",
              "      <th></th>\n",
              "      <th>product_id</th>\n",
              "      <th>image</th>\n",
              "      <th>name</th>\n",
              "      <th>shop_name</th>\n",
              "      <th>shopid</th>\n",
              "      <th>main_category</th>\n",
              "      <th>sub_category</th>\n",
              "    </tr>\n",
              "  </thead>\n",
              "  <tbody>\n",
              "    <tr>\n",
              "      <th>0</th>\n",
              "      <td>1.252352e+10</td>\n",
              "      <td>e6205d4fcb8a485235778ad210ac4d90</td>\n",
              "      <td>PS3 Super Slim 1TB Full Game + 2 Stik getar + ...</td>\n",
              "      <td>spirit elektronik</td>\n",
              "      <td>379815570.0</td>\n",
              "      <td>Elektronik</td>\n",
              "      <td>Konsol Game</td>\n",
              "    </tr>\n",
              "    <tr>\n",
              "      <th>1</th>\n",
              "      <td>1.252352e+10</td>\n",
              "      <td>id-11134207-7qul3-lf6yozwuhi04b2</td>\n",
              "      <td>PS3 Super Slim 1TB Full Game + 2 Stik getar + ...</td>\n",
              "      <td>spirit elektronik</td>\n",
              "      <td>379815570.0</td>\n",
              "      <td>Elektronik</td>\n",
              "      <td>Konsol Game</td>\n",
              "    </tr>\n",
              "    <tr>\n",
              "      <th>2</th>\n",
              "      <td>1.794108e+10</td>\n",
              "      <td>8563c9fc31b880ed105f91b8d43e6d88</td>\n",
              "      <td>GAMEBOY PVP DUAL ANALOG FULLSET BISA MAIN DI T...</td>\n",
              "      <td>Gaming Console Store</td>\n",
              "      <td>268909000.0</td>\n",
              "      <td>Elektronik</td>\n",
              "      <td>Konsol Game</td>\n",
              "    </tr>\n",
              "    <tr>\n",
              "      <th>3</th>\n",
              "      <td>1.794108e+10</td>\n",
              "      <td>27ad37dbae3d9e3776483634972404f0</td>\n",
              "      <td>GAMEBOY PVP DUAL ANALOG FULLSET BISA MAIN DI T...</td>\n",
              "      <td>Gaming Console Store</td>\n",
              "      <td>268909000.0</td>\n",
              "      <td>Elektronik</td>\n",
              "      <td>Konsol Game</td>\n",
              "    </tr>\n",
              "    <tr>\n",
              "      <th>4</th>\n",
              "      <td>1.794108e+10</td>\n",
              "      <td>3a37929008c26d5ebfeea1961e564213</td>\n",
              "      <td>GAMEBOY PVP DUAL ANALOG FULLSET BISA MAIN DI T...</td>\n",
              "      <td>Gaming Console Store</td>\n",
              "      <td>268909000.0</td>\n",
              "      <td>Elektronik</td>\n",
              "      <td>Konsol Game</td>\n",
              "    </tr>\n",
              "  </tbody>\n",
              "</table>\n",
              "</div>\n",
              "      <button class=\"colab-df-convert\" onclick=\"convertToInteractive('df-39e7e864-d120-47d3-a6b2-051c978a8b12')\"\n",
              "              title=\"Convert this dataframe to an interactive table.\"\n",
              "              style=\"display:none;\">\n",
              "        \n",
              "  <svg xmlns=\"http://www.w3.org/2000/svg\" height=\"24px\"viewBox=\"0 0 24 24\"\n",
              "       width=\"24px\">\n",
              "    <path d=\"M0 0h24v24H0V0z\" fill=\"none\"/>\n",
              "    <path d=\"M18.56 5.44l.94 2.06.94-2.06 2.06-.94-2.06-.94-.94-2.06-.94 2.06-2.06.94zm-11 1L8.5 8.5l.94-2.06 2.06-.94-2.06-.94L8.5 2.5l-.94 2.06-2.06.94zm10 10l.94 2.06.94-2.06 2.06-.94-2.06-.94-.94-2.06-.94 2.06-2.06.94z\"/><path d=\"M17.41 7.96l-1.37-1.37c-.4-.4-.92-.59-1.43-.59-.52 0-1.04.2-1.43.59L10.3 9.45l-7.72 7.72c-.78.78-.78 2.05 0 2.83L4 21.41c.39.39.9.59 1.41.59.51 0 1.02-.2 1.41-.59l7.78-7.78 2.81-2.81c.8-.78.8-2.07 0-2.86zM5.41 20L4 18.59l7.72-7.72 1.47 1.35L5.41 20z\"/>\n",
              "  </svg>\n",
              "      </button>\n",
              "      \n",
              "  <style>\n",
              "    .colab-df-container {\n",
              "      display:flex;\n",
              "      flex-wrap:wrap;\n",
              "      gap: 12px;\n",
              "    }\n",
              "\n",
              "    .colab-df-convert {\n",
              "      background-color: #E8F0FE;\n",
              "      border: none;\n",
              "      border-radius: 50%;\n",
              "      cursor: pointer;\n",
              "      display: none;\n",
              "      fill: #1967D2;\n",
              "      height: 32px;\n",
              "      padding: 0 0 0 0;\n",
              "      width: 32px;\n",
              "    }\n",
              "\n",
              "    .colab-df-convert:hover {\n",
              "      background-color: #E2EBFA;\n",
              "      box-shadow: 0px 1px 2px rgba(60, 64, 67, 0.3), 0px 1px 3px 1px rgba(60, 64, 67, 0.15);\n",
              "      fill: #174EA6;\n",
              "    }\n",
              "\n",
              "    [theme=dark] .colab-df-convert {\n",
              "      background-color: #3B4455;\n",
              "      fill: #D2E3FC;\n",
              "    }\n",
              "\n",
              "    [theme=dark] .colab-df-convert:hover {\n",
              "      background-color: #434B5C;\n",
              "      box-shadow: 0px 1px 3px 1px rgba(0, 0, 0, 0.15);\n",
              "      filter: drop-shadow(0px 1px 2px rgba(0, 0, 0, 0.3));\n",
              "      fill: #FFFFFF;\n",
              "    }\n",
              "  </style>\n",
              "\n",
              "      <script>\n",
              "        const buttonEl =\n",
              "          document.querySelector('#df-39e7e864-d120-47d3-a6b2-051c978a8b12 button.colab-df-convert');\n",
              "        buttonEl.style.display =\n",
              "          google.colab.kernel.accessAllowed ? 'block' : 'none';\n",
              "\n",
              "        async function convertToInteractive(key) {\n",
              "          const element = document.querySelector('#df-39e7e864-d120-47d3-a6b2-051c978a8b12');\n",
              "          const dataTable =\n",
              "            await google.colab.kernel.invokeFunction('convertToInteractive',\n",
              "                                                     [key], {});\n",
              "          if (!dataTable) return;\n",
              "\n",
              "          const docLinkHtml = 'Like what you see? Visit the ' +\n",
              "            '<a target=\"_blank\" href=https://colab.research.google.com/notebooks/data_table.ipynb>data table notebook</a>'\n",
              "            + ' to learn more about interactive tables.';\n",
              "          element.innerHTML = '';\n",
              "          dataTable['output_type'] = 'display_data';\n",
              "          await google.colab.output.renderOutput(dataTable, element);\n",
              "          const docLink = document.createElement('div');\n",
              "          docLink.innerHTML = docLinkHtml;\n",
              "          element.appendChild(docLink);\n",
              "        }\n",
              "      </script>\n",
              "    </div>\n",
              "  </div>\n",
              "  "
            ]
          },
          "metadata": {},
          "execution_count": 4
        }
      ],
      "source": [
        "df = pd.read_csv('/content/data_products_id.csv')\n",
        "df.head()"
      ]
    },
    {
      "cell_type": "code",
      "execution_count": null,
      "metadata": {
        "colab": {
          "base_uri": "https://localhost:8080/"
        },
        "id": "5m0dCfY5djZH",
        "outputId": "d6b0b1e1-4334-466b-d57c-f86624d37b99"
      },
      "outputs": [
        {
          "output_type": "execute_result",
          "data": {
            "text/plain": [
              "(888951, 7)"
            ]
          },
          "metadata": {},
          "execution_count": 4
        }
      ],
      "source": [
        "df.shape"
      ]
    },
    {
      "cell_type": "markdown",
      "metadata": {
        "id": "bQfp5cXNhvJ_"
      },
      "source": [
        "#Preprocessing"
      ]
    },
    {
      "cell_type": "code",
      "execution_count": null,
      "metadata": {
        "colab": {
          "base_uri": "https://localhost:8080/",
          "height": 206
        },
        "id": "6ljlIU_siGXr",
        "outputId": "5c4071bf-8fd0-4acf-a150-3e9794b98f07"
      },
      "outputs": [
        {
          "output_type": "execute_result",
          "data": {
            "text/plain": [
              "      product_id                             image  \\\n",
              "0   1.252352e+10  e6205d4fcb8a485235778ad210ac4d90   \n",
              "2   1.794108e+10  8563c9fc31b880ed105f91b8d43e6d88   \n",
              "10  2.351749e+10  id-11134207-7qul7-leyb85rn449s74   \n",
              "11  7.978948e+09  d6b77df3df58d6a13b3d78eeb303cbb5   \n",
              "13  4.653308e+09  f888e78a3845120009602a0b23e65ce0   \n",
              "\n",
              "                                                 name             shop_name  \\\n",
              "0   PS3 Super Slim 1TB Full Game + 2 Stik getar + ...     spirit elektronik   \n",
              "2   GAMEBOY PVP DUAL ANALOG FULLSET BISA MAIN DI T...  Gaming Console Store   \n",
              "10                           Pulsa Min A10 K1T Remote           GAMOLBERKAH   \n",
              "11                 DUS PSP-2004/ DUS PSP STREET E1004              GAMES168   \n",
              "13  playstation 2 full game|| hardis external full...           Milkha_shop   \n",
              "\n",
              "         shopid main_category sub_category  \n",
              "0   379815570.0    Elektronik  Konsol Game  \n",
              "2   268909000.0    Elektronik  Konsol Game  \n",
              "10  102394348.0    Elektronik  Konsol Game  \n",
              "11   28318233.0    Elektronik  Konsol Game  \n",
              "13  293187724.0    Elektronik  Konsol Game  "
            ],
            "text/html": [
              "\n",
              "  <div id=\"df-94598f1d-9170-4a68-9c6f-f10955136e81\">\n",
              "    <div class=\"colab-df-container\">\n",
              "      <div>\n",
              "<style scoped>\n",
              "    .dataframe tbody tr th:only-of-type {\n",
              "        vertical-align: middle;\n",
              "    }\n",
              "\n",
              "    .dataframe tbody tr th {\n",
              "        vertical-align: top;\n",
              "    }\n",
              "\n",
              "    .dataframe thead th {\n",
              "        text-align: right;\n",
              "    }\n",
              "</style>\n",
              "<table border=\"1\" class=\"dataframe\">\n",
              "  <thead>\n",
              "    <tr style=\"text-align: right;\">\n",
              "      <th></th>\n",
              "      <th>product_id</th>\n",
              "      <th>image</th>\n",
              "      <th>name</th>\n",
              "      <th>shop_name</th>\n",
              "      <th>shopid</th>\n",
              "      <th>main_category</th>\n",
              "      <th>sub_category</th>\n",
              "    </tr>\n",
              "  </thead>\n",
              "  <tbody>\n",
              "    <tr>\n",
              "      <th>0</th>\n",
              "      <td>1.252352e+10</td>\n",
              "      <td>e6205d4fcb8a485235778ad210ac4d90</td>\n",
              "      <td>PS3 Super Slim 1TB Full Game + 2 Stik getar + ...</td>\n",
              "      <td>spirit elektronik</td>\n",
              "      <td>379815570.0</td>\n",
              "      <td>Elektronik</td>\n",
              "      <td>Konsol Game</td>\n",
              "    </tr>\n",
              "    <tr>\n",
              "      <th>2</th>\n",
              "      <td>1.794108e+10</td>\n",
              "      <td>8563c9fc31b880ed105f91b8d43e6d88</td>\n",
              "      <td>GAMEBOY PVP DUAL ANALOG FULLSET BISA MAIN DI T...</td>\n",
              "      <td>Gaming Console Store</td>\n",
              "      <td>268909000.0</td>\n",
              "      <td>Elektronik</td>\n",
              "      <td>Konsol Game</td>\n",
              "    </tr>\n",
              "    <tr>\n",
              "      <th>10</th>\n",
              "      <td>2.351749e+10</td>\n",
              "      <td>id-11134207-7qul7-leyb85rn449s74</td>\n",
              "      <td>Pulsa Min A10 K1T Remote</td>\n",
              "      <td>GAMOLBERKAH</td>\n",
              "      <td>102394348.0</td>\n",
              "      <td>Elektronik</td>\n",
              "      <td>Konsol Game</td>\n",
              "    </tr>\n",
              "    <tr>\n",
              "      <th>11</th>\n",
              "      <td>7.978948e+09</td>\n",
              "      <td>d6b77df3df58d6a13b3d78eeb303cbb5</td>\n",
              "      <td>DUS PSP-2004/ DUS PSP STREET E1004</td>\n",
              "      <td>GAMES168</td>\n",
              "      <td>28318233.0</td>\n",
              "      <td>Elektronik</td>\n",
              "      <td>Konsol Game</td>\n",
              "    </tr>\n",
              "    <tr>\n",
              "      <th>13</th>\n",
              "      <td>4.653308e+09</td>\n",
              "      <td>f888e78a3845120009602a0b23e65ce0</td>\n",
              "      <td>playstation 2 full game|| hardis external full...</td>\n",
              "      <td>Milkha_shop</td>\n",
              "      <td>293187724.0</td>\n",
              "      <td>Elektronik</td>\n",
              "      <td>Konsol Game</td>\n",
              "    </tr>\n",
              "  </tbody>\n",
              "</table>\n",
              "</div>\n",
              "      <button class=\"colab-df-convert\" onclick=\"convertToInteractive('df-94598f1d-9170-4a68-9c6f-f10955136e81')\"\n",
              "              title=\"Convert this dataframe to an interactive table.\"\n",
              "              style=\"display:none;\">\n",
              "        \n",
              "  <svg xmlns=\"http://www.w3.org/2000/svg\" height=\"24px\"viewBox=\"0 0 24 24\"\n",
              "       width=\"24px\">\n",
              "    <path d=\"M0 0h24v24H0V0z\" fill=\"none\"/>\n",
              "    <path d=\"M18.56 5.44l.94 2.06.94-2.06 2.06-.94-2.06-.94-.94-2.06-.94 2.06-2.06.94zm-11 1L8.5 8.5l.94-2.06 2.06-.94-2.06-.94L8.5 2.5l-.94 2.06-2.06.94zm10 10l.94 2.06.94-2.06 2.06-.94-2.06-.94-.94-2.06-.94 2.06-2.06.94z\"/><path d=\"M17.41 7.96l-1.37-1.37c-.4-.4-.92-.59-1.43-.59-.52 0-1.04.2-1.43.59L10.3 9.45l-7.72 7.72c-.78.78-.78 2.05 0 2.83L4 21.41c.39.39.9.59 1.41.59.51 0 1.02-.2 1.41-.59l7.78-7.78 2.81-2.81c.8-.78.8-2.07 0-2.86zM5.41 20L4 18.59l7.72-7.72 1.47 1.35L5.41 20z\"/>\n",
              "  </svg>\n",
              "      </button>\n",
              "      \n",
              "  <style>\n",
              "    .colab-df-container {\n",
              "      display:flex;\n",
              "      flex-wrap:wrap;\n",
              "      gap: 12px;\n",
              "    }\n",
              "\n",
              "    .colab-df-convert {\n",
              "      background-color: #E8F0FE;\n",
              "      border: none;\n",
              "      border-radius: 50%;\n",
              "      cursor: pointer;\n",
              "      display: none;\n",
              "      fill: #1967D2;\n",
              "      height: 32px;\n",
              "      padding: 0 0 0 0;\n",
              "      width: 32px;\n",
              "    }\n",
              "\n",
              "    .colab-df-convert:hover {\n",
              "      background-color: #E2EBFA;\n",
              "      box-shadow: 0px 1px 2px rgba(60, 64, 67, 0.3), 0px 1px 3px 1px rgba(60, 64, 67, 0.15);\n",
              "      fill: #174EA6;\n",
              "    }\n",
              "\n",
              "    [theme=dark] .colab-df-convert {\n",
              "      background-color: #3B4455;\n",
              "      fill: #D2E3FC;\n",
              "    }\n",
              "\n",
              "    [theme=dark] .colab-df-convert:hover {\n",
              "      background-color: #434B5C;\n",
              "      box-shadow: 0px 1px 3px 1px rgba(0, 0, 0, 0.15);\n",
              "      filter: drop-shadow(0px 1px 2px rgba(0, 0, 0, 0.3));\n",
              "      fill: #FFFFFF;\n",
              "    }\n",
              "  </style>\n",
              "\n",
              "      <script>\n",
              "        const buttonEl =\n",
              "          document.querySelector('#df-94598f1d-9170-4a68-9c6f-f10955136e81 button.colab-df-convert');\n",
              "        buttonEl.style.display =\n",
              "          google.colab.kernel.accessAllowed ? 'block' : 'none';\n",
              "\n",
              "        async function convertToInteractive(key) {\n",
              "          const element = document.querySelector('#df-94598f1d-9170-4a68-9c6f-f10955136e81');\n",
              "          const dataTable =\n",
              "            await google.colab.kernel.invokeFunction('convertToInteractive',\n",
              "                                                     [key], {});\n",
              "          if (!dataTable) return;\n",
              "\n",
              "          const docLinkHtml = 'Like what you see? Visit the ' +\n",
              "            '<a target=\"_blank\" href=https://colab.research.google.com/notebooks/data_table.ipynb>data table notebook</a>'\n",
              "            + ' to learn more about interactive tables.';\n",
              "          element.innerHTML = '';\n",
              "          dataTable['output_type'] = 'display_data';\n",
              "          await google.colab.output.renderOutput(dataTable, element);\n",
              "          const docLink = document.createElement('div');\n",
              "          docLink.innerHTML = docLinkHtml;\n",
              "          element.appendChild(docLink);\n",
              "        }\n",
              "      </script>\n",
              "    </div>\n",
              "  </div>\n",
              "  "
            ]
          },
          "metadata": {},
          "execution_count": 5
        }
      ],
      "source": [
        "# Menghapus baris duplikat\n",
        "df = df.drop_duplicates(['name'], keep='first')\n",
        "df.head()"
      ]
    },
    {
      "cell_type": "code",
      "execution_count": null,
      "metadata": {
        "colab": {
          "base_uri": "https://localhost:8080/"
        },
        "id": "6Pkn38ktiGZ-",
        "outputId": "1dd41ed6-2151-49bc-f013-32673dbe771c"
      },
      "outputs": [
        {
          "output_type": "execute_result",
          "data": {
            "text/plain": [
              "(159442, 7)"
            ]
          },
          "metadata": {},
          "execution_count": 25
        }
      ],
      "source": [
        "df.shape"
      ]
    },
    {
      "cell_type": "code",
      "execution_count": null,
      "metadata": {
        "id": "V0AjDzGZmM1a"
      },
      "outputs": [],
      "source": [
        "# Preprocessing\n",
        "import string \n",
        "import re\n",
        "\n",
        "#string punctuation\n",
        "def remove_punctuation(text):\n",
        "    punctuationfree=\"\".join([i for i in text if i not in string.punctuation])\n",
        "    return punctuationfree\n",
        "\n",
        "# remove number from text\n",
        "def remove_num(text):\n",
        "  text = re.sub(r\"[A-Za-z]+\\d+|\\d+[A-Za-z]+\",'',text).strip()\n",
        "  text = text.translate(str.maketrans('', '', string.digits))\n",
        "  return text\n",
        "\n",
        "def remove_double_spaces(text):\n",
        "  text = \" \".join(text.split())\n",
        "  return text\n"
      ]
    },
    {
      "cell_type": "code",
      "execution_count": null,
      "metadata": {
        "id": "95Gj-reuoCmm"
      },
      "outputs": [],
      "source": [
        "# Apply preproces function to all row in dataset\n",
        "def preprocess(text):\n",
        "  text = remove_punctuation(text)\n",
        "  text = remove_num(text)\n",
        "  text = remove_double_spaces(text)\n",
        "  text = text.lower()\n",
        "  return text\n",
        "\n",
        "df['clean_name'] = df['name'].apply(lambda x: preprocess(x))"
      ]
    },
    {
      "cell_type": "code",
      "execution_count": null,
      "metadata": {
        "id": "cdB5NsvspIIw"
      },
      "outputs": [],
      "source": [
        "df = df[['clean_name', 'main_category']]"
      ]
    },
    {
      "cell_type": "markdown",
      "source": [
        "# Augmentasi data"
      ],
      "metadata": {
        "id": "2fX4qnK8aTQd"
      }
    },
    {
      "cell_type": "code",
      "source": [
        "import random\n",
        "import pandas as pd\n",
        "\n",
        "# Fungsi untuk melakukan flipping pada teks\n",
        "def flip_text(text):\n",
        "    words = text.split()\n",
        "    flipped_text = ' '.join(reversed(words))\n",
        "    return flipped_text\n",
        "\n",
        "# Fungsi untuk melakukan word shuffling pada teks\n",
        "def shuffle_text(text, seed):\n",
        "    words = text.split()\n",
        "    random.shuffle(words, random.seed(seed))\n",
        "    shuffled_text = ' '.join(words)\n",
        "    return shuffled_text\n"
      ],
      "metadata": {
        "id": "u9ubUVZqaSno"
      },
      "execution_count": null,
      "outputs": []
    },
    {
      "cell_type": "code",
      "source": [
        "# Augmentasi data\n",
        "augmented_data = []\n",
        "for index, row in df.iterrows():\n",
        "    original_text = row['clean_name']\n",
        "    flipped_text = flip_text(original_text)\n",
        "    shuffled_text1 = shuffle_text(original_text, 1)\n",
        "    shuffled_text2 = shuffle_text(original_text, 2)\n",
        "    shuffled_text3 = shuffle_text(original_text, 3)\n",
        "\n",
        "    augmented_data.append({'clean_name': original_text, 'main_category': row['main_category']})\n",
        "    augmented_data.append({'clean_name': flipped_text, 'main_category': row['main_category']})\n",
        "    augmented_data.append({'clean_name': shuffled_text1, 'main_category': row['main_category']})\n",
        "    augmented_data.append({'clean_name': shuffled_text2, 'main_category': row['main_category']})\n",
        "    augmented_data.append({'clean_name': shuffled_text3, 'main_category': row['main_category']})\n",
        "\n",
        "# Konversi menjadi DataFrame\n",
        "augmented_df = pd.DataFrame(augmented_data)\n",
        "\n",
        "# Simpan dataset augmentasi\n",
        "augmented_df.to_csv('augmented_df.csv', index=False)"
      ],
      "metadata": {
        "id": "cP7gAM88aUpy"
      },
      "execution_count": null,
      "outputs": []
    },
    {
      "cell_type": "code",
      "source": [
        "df = augmented_df"
      ],
      "metadata": {
        "id": "-yRdmQABeFml"
      },
      "execution_count": null,
      "outputs": []
    },
    {
      "cell_type": "code",
      "source": [
        "df.head()"
      ],
      "metadata": {
        "colab": {
          "base_uri": "https://localhost:8080/",
          "height": 206
        },
        "id": "AzJqtCNnfEmO",
        "outputId": "4d5bd62e-8458-4299-f092-d1f156dd2d2b"
      },
      "execution_count": null,
      "outputs": [
        {
          "output_type": "execute_result",
          "data": {
            "text/plain": [
              "                                  clean_name main_category\n",
              "0  super slim full game stik getar full game    Elektronik\n",
              "1  game full getar stik game full slim super    Elektronik\n",
              "2  game full slim getar game super stik full    Elektronik\n",
              "3  getar game stik slim full full game super    Elektronik\n",
              "4  super getar game full slim full stik game    Elektronik"
            ],
            "text/html": [
              "\n",
              "  <div id=\"df-3d69a15f-1b5a-475f-a2f5-2e5d372f7991\">\n",
              "    <div class=\"colab-df-container\">\n",
              "      <div>\n",
              "<style scoped>\n",
              "    .dataframe tbody tr th:only-of-type {\n",
              "        vertical-align: middle;\n",
              "    }\n",
              "\n",
              "    .dataframe tbody tr th {\n",
              "        vertical-align: top;\n",
              "    }\n",
              "\n",
              "    .dataframe thead th {\n",
              "        text-align: right;\n",
              "    }\n",
              "</style>\n",
              "<table border=\"1\" class=\"dataframe\">\n",
              "  <thead>\n",
              "    <tr style=\"text-align: right;\">\n",
              "      <th></th>\n",
              "      <th>clean_name</th>\n",
              "      <th>main_category</th>\n",
              "    </tr>\n",
              "  </thead>\n",
              "  <tbody>\n",
              "    <tr>\n",
              "      <th>0</th>\n",
              "      <td>super slim full game stik getar full game</td>\n",
              "      <td>Elektronik</td>\n",
              "    </tr>\n",
              "    <tr>\n",
              "      <th>1</th>\n",
              "      <td>game full getar stik game full slim super</td>\n",
              "      <td>Elektronik</td>\n",
              "    </tr>\n",
              "    <tr>\n",
              "      <th>2</th>\n",
              "      <td>game full slim getar game super stik full</td>\n",
              "      <td>Elektronik</td>\n",
              "    </tr>\n",
              "    <tr>\n",
              "      <th>3</th>\n",
              "      <td>getar game stik slim full full game super</td>\n",
              "      <td>Elektronik</td>\n",
              "    </tr>\n",
              "    <tr>\n",
              "      <th>4</th>\n",
              "      <td>super getar game full slim full stik game</td>\n",
              "      <td>Elektronik</td>\n",
              "    </tr>\n",
              "  </tbody>\n",
              "</table>\n",
              "</div>\n",
              "      <button class=\"colab-df-convert\" onclick=\"convertToInteractive('df-3d69a15f-1b5a-475f-a2f5-2e5d372f7991')\"\n",
              "              title=\"Convert this dataframe to an interactive table.\"\n",
              "              style=\"display:none;\">\n",
              "        \n",
              "  <svg xmlns=\"http://www.w3.org/2000/svg\" height=\"24px\"viewBox=\"0 0 24 24\"\n",
              "       width=\"24px\">\n",
              "    <path d=\"M0 0h24v24H0V0z\" fill=\"none\"/>\n",
              "    <path d=\"M18.56 5.44l.94 2.06.94-2.06 2.06-.94-2.06-.94-.94-2.06-.94 2.06-2.06.94zm-11 1L8.5 8.5l.94-2.06 2.06-.94-2.06-.94L8.5 2.5l-.94 2.06-2.06.94zm10 10l.94 2.06.94-2.06 2.06-.94-2.06-.94-.94-2.06-.94 2.06-2.06.94z\"/><path d=\"M17.41 7.96l-1.37-1.37c-.4-.4-.92-.59-1.43-.59-.52 0-1.04.2-1.43.59L10.3 9.45l-7.72 7.72c-.78.78-.78 2.05 0 2.83L4 21.41c.39.39.9.59 1.41.59.51 0 1.02-.2 1.41-.59l7.78-7.78 2.81-2.81c.8-.78.8-2.07 0-2.86zM5.41 20L4 18.59l7.72-7.72 1.47 1.35L5.41 20z\"/>\n",
              "  </svg>\n",
              "      </button>\n",
              "      \n",
              "  <style>\n",
              "    .colab-df-container {\n",
              "      display:flex;\n",
              "      flex-wrap:wrap;\n",
              "      gap: 12px;\n",
              "    }\n",
              "\n",
              "    .colab-df-convert {\n",
              "      background-color: #E8F0FE;\n",
              "      border: none;\n",
              "      border-radius: 50%;\n",
              "      cursor: pointer;\n",
              "      display: none;\n",
              "      fill: #1967D2;\n",
              "      height: 32px;\n",
              "      padding: 0 0 0 0;\n",
              "      width: 32px;\n",
              "    }\n",
              "\n",
              "    .colab-df-convert:hover {\n",
              "      background-color: #E2EBFA;\n",
              "      box-shadow: 0px 1px 2px rgba(60, 64, 67, 0.3), 0px 1px 3px 1px rgba(60, 64, 67, 0.15);\n",
              "      fill: #174EA6;\n",
              "    }\n",
              "\n",
              "    [theme=dark] .colab-df-convert {\n",
              "      background-color: #3B4455;\n",
              "      fill: #D2E3FC;\n",
              "    }\n",
              "\n",
              "    [theme=dark] .colab-df-convert:hover {\n",
              "      background-color: #434B5C;\n",
              "      box-shadow: 0px 1px 3px 1px rgba(0, 0, 0, 0.15);\n",
              "      filter: drop-shadow(0px 1px 2px rgba(0, 0, 0, 0.3));\n",
              "      fill: #FFFFFF;\n",
              "    }\n",
              "  </style>\n",
              "\n",
              "      <script>\n",
              "        const buttonEl =\n",
              "          document.querySelector('#df-3d69a15f-1b5a-475f-a2f5-2e5d372f7991 button.colab-df-convert');\n",
              "        buttonEl.style.display =\n",
              "          google.colab.kernel.accessAllowed ? 'block' : 'none';\n",
              "\n",
              "        async function convertToInteractive(key) {\n",
              "          const element = document.querySelector('#df-3d69a15f-1b5a-475f-a2f5-2e5d372f7991');\n",
              "          const dataTable =\n",
              "            await google.colab.kernel.invokeFunction('convertToInteractive',\n",
              "                                                     [key], {});\n",
              "          if (!dataTable) return;\n",
              "\n",
              "          const docLinkHtml = 'Like what you see? Visit the ' +\n",
              "            '<a target=\"_blank\" href=https://colab.research.google.com/notebooks/data_table.ipynb>data table notebook</a>'\n",
              "            + ' to learn more about interactive tables.';\n",
              "          element.innerHTML = '';\n",
              "          dataTable['output_type'] = 'display_data';\n",
              "          await google.colab.output.renderOutput(dataTable, element);\n",
              "          const docLink = document.createElement('div');\n",
              "          docLink.innerHTML = docLinkHtml;\n",
              "          element.appendChild(docLink);\n",
              "        }\n",
              "      </script>\n",
              "    </div>\n",
              "  </div>\n",
              "  "
            ]
          },
          "metadata": {},
          "execution_count": 11
        }
      ]
    },
    {
      "cell_type": "code",
      "source": [
        "df.shape"
      ],
      "metadata": {
        "colab": {
          "base_uri": "https://localhost:8080/"
        },
        "id": "4terUQIO5A6t",
        "outputId": "2d58f8ff-1e76-43e0-9bd0-416740cd36d4"
      },
      "execution_count": null,
      "outputs": [
        {
          "output_type": "execute_result",
          "data": {
            "text/plain": [
              "(797210, 2)"
            ]
          },
          "metadata": {},
          "execution_count": 24
        }
      ]
    },
    {
      "cell_type": "markdown",
      "source": [
        "#Model 2"
      ],
      "metadata": {
        "id": "xrQPkM-cHcxe"
      }
    },
    {
      "cell_type": "code",
      "execution_count": null,
      "metadata": {
        "id": "-b8iMaid9lVc"
      },
      "outputs": [],
      "source": [
        "# Membuat tokenizer\n",
        "from tensorflow.keras.preprocessing.text import Tokenizer\n",
        "\n",
        "num_words = 50000\n",
        "\n",
        "tokenizer = Tokenizer(num_words = num_words, oov_token=\"unk\")\n",
        "tokenizer.fit_on_texts(df['clean_name'].tolist())"
      ]
    },
    {
      "cell_type": "code",
      "source": [
        "# Membagi data\n",
        "from sklearn.model_selection import train_test_split\n",
        "from sklearn import preprocessing\n",
        "from tensorflow.keras.utils import pad_sequences\n",
        "from sklearn.preprocessing import OneHotEncoder\n",
        "\n",
        "X_train, X_valid, y_train, y_valid = train_test_split(df['clean_name'].to_list(),\n",
        "                                                     df['main_category'].to_list(),\n",
        "                                                     test_size = 0.1,\n",
        "                                                     stratify = df['main_category'].to_list(),\n",
        "                                                     random_state = 0)\n",
        "\n",
        "x_train = np.array(tokenizer.texts_to_sequences(X_train) )\n",
        "x_valid = np.array(tokenizer.texts_to_sequences(X_valid) )\n",
        "\n",
        "x_train = pad_sequences(x_train, padding = 'post', maxlen = 16)\n",
        "x_valid = pad_sequences(x_valid, padding = 'post', maxlen = 16)\n",
        "\n",
        "encoder = OneHotEncoder(sparse=False)\n",
        "\n",
        "# Melakukan one-hot encoding pada variabel target\n",
        "train_labels = encoder.fit_transform(np.array(y_train).reshape(-1, 1))\n",
        "valid_labels = encoder.transform(np.array(y_valid).reshape(-1, 1))"
      ],
      "metadata": {
        "colab": {
          "base_uri": "https://localhost:8080/"
        },
        "id": "Y2PylDZL4QJI",
        "outputId": "464dbdde-ac4c-4230-add4-2ed7f7f9a50f"
      },
      "execution_count": null,
      "outputs": [
        {
          "output_type": "stream",
          "name": "stderr",
          "text": [
            "<ipython-input-16-0a78ff37f956>:12: VisibleDeprecationWarning: Creating an ndarray from ragged nested sequences (which is a list-or-tuple of lists-or-tuples-or ndarrays with different lengths or shapes) is deprecated. If you meant to do this, you must specify 'dtype=object' when creating the ndarray.\n",
            "  x_train = np.array(tokenizer.texts_to_sequences(X_train) )\n",
            "<ipython-input-16-0a78ff37f956>:13: VisibleDeprecationWarning: Creating an ndarray from ragged nested sequences (which is a list-or-tuple of lists-or-tuples-or ndarrays with different lengths or shapes) is deprecated. If you meant to do this, you must specify 'dtype=object' when creating the ndarray.\n",
            "  x_valid = np.array(tokenizer.texts_to_sequences(X_valid) )\n",
            "/usr/local/lib/python3.10/dist-packages/sklearn/preprocessing/_encoders.py:868: FutureWarning: `sparse` was renamed to `sparse_output` in version 1.2 and will be removed in 1.4. `sparse_output` is ignored unless you leave `sparse` to its default value.\n",
            "  warnings.warn(\n"
          ]
        }
      ]
    },
    {
      "cell_type": "code",
      "source": [
        "# Membuat model\n",
        "from tensorflow.keras import regularizers\n",
        "\n",
        "max_features = 50000\n",
        "embedding_dim = 32\n",
        "sequence_length =16\n",
        "\n",
        "\n",
        "model2 = tf.keras.Sequential([\n",
        "    tf.keras.layers.Embedding(max_features + 1, embedding_dim, input_length = sequence_length),\n",
        "    tf.keras.layers.Bidirectional(tf.keras.layers.LSTM(128, return_sequences=True)),\n",
        "    tf.keras.layers.Dropout(0.2),\n",
        "    tf.keras.layers.LSTM(64),\n",
        "    tf.keras.layers.Dropout(0.2),\n",
        "    tf.keras.layers.Dense(64, activation='relu'),\n",
        "    tf.keras.layers.Dense(24, activation='softmax')\n",
        "])\n",
        "\n",
        "\n",
        "model2.summary()"
      ],
      "metadata": {
        "colab": {
          "base_uri": "https://localhost:8080/"
        },
        "id": "CktLJKGUHfih",
        "outputId": "d02e7256-7970-4fd1-bcf7-62ae015301cc"
      },
      "execution_count": null,
      "outputs": [
        {
          "output_type": "stream",
          "name": "stdout",
          "text": [
            "Model: \"sequential_1\"\n",
            "_________________________________________________________________\n",
            " Layer (type)                Output Shape              Param #   \n",
            "=================================================================\n",
            " embedding_1 (Embedding)     (None, 16, 32)            1600032   \n",
            "                                                                 \n",
            " bidirectional_1 (Bidirectio  (None, 16, 256)          164864    \n",
            " nal)                                                            \n",
            "                                                                 \n",
            " dropout_2 (Dropout)         (None, 16, 256)           0         \n",
            "                                                                 \n",
            " lstm_3 (LSTM)               (None, 64)                82176     \n",
            "                                                                 \n",
            " dropout_3 (Dropout)         (None, 64)                0         \n",
            "                                                                 \n",
            " dense_2 (Dense)             (None, 64)                4160      \n",
            "                                                                 \n",
            " dense_3 (Dense)             (None, 24)                1560      \n",
            "                                                                 \n",
            "=================================================================\n",
            "Total params: 1,852,792\n",
            "Trainable params: 1,852,792\n",
            "Non-trainable params: 0\n",
            "_________________________________________________________________\n"
          ]
        }
      ]
    },
    {
      "cell_type": "code",
      "source": [
        "model2.compile(optimizer = 'adam',\n",
        "              loss=tf.keras.losses.CategoricalCrossentropy(),\n",
        "              metrics=['CategoricalAccuracy'])"
      ],
      "metadata": {
        "id": "nHVcRASoHugt"
      },
      "execution_count": null,
      "outputs": []
    },
    {
      "cell_type": "code",
      "source": [
        "# Train model\n",
        "epochs = 10\n",
        "\n",
        "history2 = model2.fit(x_train, train_labels, \n",
        "                    epochs = epochs,\n",
        "                    validation_data = (x_valid, valid_labels),\n",
        "                    verbose = 1)"
      ],
      "metadata": {
        "colab": {
          "base_uri": "https://localhost:8080/"
        },
        "id": "bqmDh9KgHzkX",
        "outputId": "9c6ddf2f-1392-4312-9316-e1164e5b402b"
      },
      "execution_count": null,
      "outputs": [
        {
          "output_type": "stream",
          "name": "stdout",
          "text": [
            "Epoch 1/10\n",
            "22422/22422 [==============================] - 285s 12ms/step - loss: 0.5286 - categorical_accuracy: 0.8480 - val_loss: 0.2828 - val_categorical_accuracy: 0.9159\n",
            "Epoch 2/10\n",
            "22422/22422 [==============================] - 250s 11ms/step - loss: 0.2395 - categorical_accuracy: 0.9281 - val_loss: 0.2059 - val_categorical_accuracy: 0.9363\n",
            "Epoch 3/10\n",
            "22422/22422 [==============================] - 233s 10ms/step - loss: 0.1776 - categorical_accuracy: 0.9443 - val_loss: 0.1681 - val_categorical_accuracy: 0.9466\n",
            "Epoch 4/10\n",
            "22422/22422 [==============================] - 244s 11ms/step - loss: 0.1453 - categorical_accuracy: 0.9534 - val_loss: 0.1466 - val_categorical_accuracy: 0.9527\n",
            "Epoch 5/10\n",
            "22422/22422 [==============================] - 234s 10ms/step - loss: 0.1235 - categorical_accuracy: 0.9596 - val_loss: 0.1305 - val_categorical_accuracy: 0.9577\n",
            "Epoch 6/10\n",
            "22422/22422 [==============================] - 236s 11ms/step - loss: 0.1085 - categorical_accuracy: 0.9643 - val_loss: 0.1230 - val_categorical_accuracy: 0.9606\n",
            "Epoch 7/10\n",
            "22422/22422 [==============================] - 235s 10ms/step - loss: 0.0956 - categorical_accuracy: 0.9684 - val_loss: 0.1109 - val_categorical_accuracy: 0.9638\n",
            "Epoch 8/10\n",
            "22422/22422 [==============================] - 236s 11ms/step - loss: 0.0862 - categorical_accuracy: 0.9713 - val_loss: 0.1022 - val_categorical_accuracy: 0.9674\n",
            "Epoch 9/10\n",
            "22422/22422 [==============================] - 236s 11ms/step - loss: 0.0789 - categorical_accuracy: 0.9737 - val_loss: 0.0998 - val_categorical_accuracy: 0.9679\n",
            "Epoch 10/10\n",
            "22422/22422 [==============================] - 234s 10ms/step - loss: 0.0722 - categorical_accuracy: 0.9760 - val_loss: 0.0946 - val_categorical_accuracy: 0.9700\n"
          ]
        }
      ]
    },
    {
      "cell_type": "code",
      "source": [
        "# Mengambil history loss dan akurasi dari training\n",
        "train_loss = history2.history['loss']\n",
        "train_accuracy = history2.history['categorical_accuracy']\n",
        "\n",
        "# Mengambil history loss dan akurasi dari validasi\n",
        "val_loss = history2.history['val_loss']\n",
        "val_accuracy = history2.history['val_categorical_accuracy']\n",
        "\n",
        "# Plot loss (kerugian) pada training dan validasi\n",
        "plt.figure(figsize=(4, 3))\n",
        "plt.plot(train_loss, label='Training Loss')\n",
        "plt.plot(val_loss, label='Validation Loss')\n",
        "plt.xlabel('Epochs')\n",
        "plt.ylabel('Loss')\n",
        "plt.title('Training and Validation Loss')\n",
        "plt.legend()\n",
        "plt.show()\n",
        "\n",
        "# Plot akurasi pada training dan validasi\n",
        "plt.figure(figsize=(4, 3))\n",
        "plt.plot(train_accuracy, label='Training Accuracy')\n",
        "plt.plot(val_accuracy, label='Validation Accuracy')\n",
        "plt.xlabel('Epochs')\n",
        "plt.ylabel('Accuracy')\n",
        "plt.title('Training and Validation Accuracy')\n",
        "plt.legend()\n",
        "plt.show()"
      ],
      "metadata": {
        "colab": {
          "base_uri": "https://localhost:8080/",
          "height": 649
        },
        "id": "1RHZ-SYELHES",
        "outputId": "d9770ded-382e-4b91-c8bc-b4e266dbca38"
      },
      "execution_count": null,
      "outputs": [
        {
          "output_type": "display_data",
          "data": {
            "text/plain": [
              "<Figure size 400x300 with 1 Axes>"
            ],
            "image/png": "[encoded data removed]"
          },
          "metadata": {}
        },
        {
          "output_type": "display_data",
          "data": {
            "text/plain": [
              "<Figure size 400x300 with 1 Axes>"
            ],
            "image/png": "[encoded data removed]"
          },
          "metadata": {}
        }
      ]
    },
    {
      "cell_type": "code",
      "source": [
        "from sklearn.metrics import classification_report, confusion_matrix\n",
        "\n",
        "# Prediksi model pada data validasi\n",
        "predictions = model2.predict(x_valid)  # Ganti X_valid dengan data validasi Anda\n",
        "\n",
        "# Mendapatkan label prediksi untuk setiap sampel\n",
        "predicted_labels = tf.argmax(predictions, axis=1).numpy()\n",
        "\n",
        "# Mendapatkan label sebenarnya untuk setiap sampel\n",
        "true_labels = tf.argmax(valid_labels, axis=1).numpy()\n",
        "\n",
        "classification_rep = classification_report(true_labels, predicted_labels) #, target_names=target_names)\n",
        "print(\"Classification Report:\")\n",
        "print(classification_rep)"
      ],
      "metadata": {
        "colab": {
          "base_uri": "https://localhost:8080/"
        },
        "id": "OfCutJnPfrSc",
        "outputId": "2403344d-5805-45b8-a8fb-2d3b899aeceb"
      },
      "execution_count": null,
      "outputs": [
        {
          "output_type": "stream",
          "name": "stdout",
          "text": [
            "2492/2492 [==============================] - 11s 4ms/step\n",
            "Classification Report:\n",
            "              precision    recall  f1-score   support\n",
            "\n",
            "           0       0.97      0.97      0.97      4401\n",
            "           1       0.97      0.97      0.97      3200\n",
            "           2       0.98      0.98      0.98      5679\n",
            "           3       0.96      0.93      0.94      2917\n",
            "           4       0.97      0.94      0.95      2692\n",
            "           5       0.97      0.97      0.97       946\n",
            "           6       0.97      0.97      0.97      2957\n",
            "           7       0.98      0.97      0.97      3259\n",
            "           8       0.98      0.97      0.97      3659\n",
            "           9       0.98      0.98      0.98      1227\n",
            "          10       0.97      0.98      0.97      3404\n",
            "          11       0.97      0.97      0.97      3627\n",
            "          12       0.99      0.99      0.99      2711\n",
            "          13       0.99      0.98      0.98      6397\n",
            "          14       0.98      0.98      0.98      3372\n",
            "          15       0.98      0.96      0.97      3800\n",
            "          16       0.94      0.97      0.95      4576\n",
            "          17       0.99      0.99      0.99      5142\n",
            "          18       0.97      0.97      0.97      4416\n",
            "          19       0.95      0.96      0.95      2219\n",
            "          20       0.97      0.97      0.97      2927\n",
            "          21       0.97      0.95      0.96      1217\n",
            "          22       0.96      0.96      0.96      2060\n",
            "          23       0.91      0.95      0.93      2916\n",
            "\n",
            "    accuracy                           0.97     79721\n",
            "   macro avg       0.97      0.97      0.97     79721\n",
            "weighted avg       0.97      0.97      0.97     79721\n",
            "\n"
          ]
        }
      ]
    },
    {
      "cell_type": "code",
      "source": [
        "encoder.categories_[0]"
      ],
      "metadata": {
        "colab": {
          "base_uri": "https://localhost:8080/"
        },
        "id": "NAcgAYcFPV6P",
        "outputId": "25807f7d-9477-4926-d088-af29d6600984"
      },
      "execution_count": null,
      "outputs": [
        {
          "output_type": "execute_result",
          "data": {
            "text/plain": [
              "array(['Aksesoris Fashion', 'Buku & Alat Tulis', 'Elektronik',\n",
              "       'Fashion Bayi & Anak', 'Fashion Muslim', 'Fotografi',\n",
              "       'Handphone & Aksesoris', 'Hobi & Koleksi', 'Ibu & Bayi',\n",
              "       'Jam Tangan', 'Kesehatan', 'Komputer & Aksesoris',\n",
              "       'Makanan & Minuman', 'Olahraga & Outdoor', 'Otomotif',\n",
              "       'Pakaian Pria', 'Pakaian Wanita', 'Perawatan & Kecantikan',\n",
              "       'Perlengkapan Rumah', 'Sepatu Pria', 'Sepatu Wanita',\n",
              "       'Souvenir & Party Supplies', 'Tas Pria', 'Tas Wanita'],\n",
              "      dtype='<U25')"
            ]
          },
          "metadata": {},
          "execution_count": 38
        }
      ]
    },
    {
      "cell_type": "code",
      "source": [
        "mapping_kelas = encoder.categories_[0]\n",
        "\n",
        "input_user = preprocess(input('Nama produk : '))\n",
        "teks = [preprocess(input_user)]\n",
        "teks = tokenizer.texts_to_sequences(teks)\n",
        "teks = pad_sequences(teks, padding = 'post', maxlen = 16)\n",
        "\n",
        "hasil_prediksi = model2.predict(teks)\n",
        "hasil_prediksi = tf.argmax(hasil_prediksi, axis = 1).numpy()\n",
        "hasil_prediksi = mapping_kelas[hasil_prediksi[0]]\n",
        "\n",
        "print(hasil_prediksi)"
      ],
      "metadata": {
        "colab": {
          "base_uri": "https://localhost:8080/"
        },
        "id": "Kz2EomLELTVe",
        "outputId": "1ca269cc-f47a-476a-f656-12cabe20d51f"
      },
      "execution_count": null,
      "outputs": [
        {
          "output_type": "stream",
          "name": "stdout",
          "text": [
            "Nama produk : indomie\n",
            "1/1 [==============================] - 0s 23ms/step\n",
            "Makanan & Minuman\n"
          ]
        }
      ]
    },
    {
      "cell_type": "code",
      "source": [
        "saved_path = '/content/drive/MyDrive/Bangkit/saved model/bidirectional lstm 2.h5'\n",
        "\n",
        "\n",
        "model2.save(saved_path)"
      ],
      "metadata": {
        "id": "j2M4XlB5mnEt"
      },
      "execution_count": null,
      "outputs": []
    },
    {
      "cell_type": "code",
      "source": [
        "load_path\n",
        "\n",
        "\n",
        "model2 = model.load()"
      ],
      "metadata": {
        "id": "C2DAfojTmwIB"
      },
      "execution_count": null,
      "outputs": []
    }
  ],
  "metadata": {
    "colab": {
      "collapsed_sections": [
        "qe0hdRspomc3",
        "8cPAGdPOfT0H"
      ],
      "provenance": [],
      "gpuType": "T4"
    },
    "kernelspec": {
      "display_name": "Python 3",
      "name": "python3"
    },
    "language_info": {
      "name": "python"
    },
    "accelerator": "GPU",
    "gpuClass": "standard"
  },
  "nbformat": 4,
  "nbformat_minor": 0
}